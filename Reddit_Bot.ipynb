{
  "cells": [
    {
      "cell_type": "code",
      "execution_count": 1,
      "metadata": {
        "colab": {
          "base_uri": "https://localhost:8080/"
        },
        "id": "4KfqJP7-L4fN",
        "outputId": "d76e0f8a-92bf-4ff6-b242-a0c9242a0137"
      },
      "outputs": [
        {
          "name": "stdout",
          "output_type": "stream",
          "text": [
            "Looking in indexes: https://pypi.org/simple, https://us-python.pkg.dev/colab-wheels/public/simple/\n",
            "Collecting praw\n",
            "  Downloading praw-7.7.0-py3-none-any.whl (189 kB)\n",
            "\u001b[2K     \u001b[90m━━━━━━━━━━━━━━━━━━━━━━━━━━━━━━━━━━━━━━\u001b[0m \u001b[32m189.4/189.4 kB\u001b[0m \u001b[31m12.8 MB/s\u001b[0m eta \u001b[36m0:00:00\u001b[0m\n",
            "\u001b[?25hCollecting update-checker>=0.18\n",
            "  Downloading update_checker-0.18.0-py3-none-any.whl (7.0 kB)\n",
            "Collecting prawcore<3,>=2.1\n",
            "  Downloading prawcore-2.3.0-py3-none-any.whl (16 kB)\n",
            "Requirement already satisfied: websocket-client>=0.54.0 in /usr/local/lib/python3.9/dist-packages (from praw) (1.5.1)\n",
            "Requirement already satisfied: requests<3.0,>=2.6.0 in /usr/local/lib/python3.9/dist-packages (from prawcore<3,>=2.1->praw) (2.27.1)\n",
            "Requirement already satisfied: certifi>=2017.4.17 in /usr/local/lib/python3.9/dist-packages (from requests<3.0,>=2.6.0->prawcore<3,>=2.1->praw) (2022.12.7)\n",
            "Requirement already satisfied: charset-normalizer~=2.0.0 in /usr/local/lib/python3.9/dist-packages (from requests<3.0,>=2.6.0->prawcore<3,>=2.1->praw) (2.0.12)\n",
            "Requirement already satisfied: urllib3<1.27,>=1.21.1 in /usr/local/lib/python3.9/dist-packages (from requests<3.0,>=2.6.0->prawcore<3,>=2.1->praw) (1.26.15)\n",
            "Requirement already satisfied: idna<4,>=2.5 in /usr/local/lib/python3.9/dist-packages (from requests<3.0,>=2.6.0->prawcore<3,>=2.1->praw) (3.4)\n",
            "Installing collected packages: update-checker, prawcore, praw\n",
            "Successfully installed praw-7.7.0 prawcore-2.3.0 update-checker-0.18.0\n"
          ]
        }
      ],
      "source": [
        "#praw - Python Reddit Api Wrapper(python library to create a reddit bot)\n",
        "#installing praw library\n",
        "!pip install praw"
      ]
    },
    {
      "cell_type": "code",
      "execution_count": 2,
      "metadata": {
        "id": "TJPWWjbaMsB8"
      },
      "outputs": [],
      "source": [
        "#importing the praw library\n",
        "import praw"
      ]
    },
    {
      "cell_type": "markdown",
      "metadata": {
        "id": "0Z8YgbCLiNXe"
      },
      "source": [
        "Create a Reddit App\n",
        "1. Go to https://www.reddit.com/prefs/apps\n",
        "2. Click on Create app\n",
        "3. Fill the form and create app"
      ]
    },
    {
      "cell_type": "code",
      "execution_count": 17,
      "metadata": {
        "id": "E1cyy7XQMsFN"
      },
      "outputs": [],
      "source": [
        "#Get the app detail\n",
        "reddit = praw.Reddit(\n",
        "    client_id = \"F1RD6T4-QQN6RU6KhuGh_Q\" ,\n",
        "    client_secret = \"9T7wQKShwFeXIWeFuYXcmB4GAY-o_g\",\n",
        "    user_agent= \"myBot/0.0.1\",\n",
        "    username=\"your_username\",\n",
        "    password=\"your_password\"\n",
        ")"
      ]
    },
    {
      "cell_type": "code",
      "execution_count": 18,
      "metadata": {
        "colab": {
          "base_uri": "https://localhost:8080/"
        },
        "id": "Yx3TsGGvMsNi",
        "outputId": "162aa0ff-3f03-463f-f310-09dea7e1069c"
      },
      "outputs": [
        {
          "name": "stderr",
          "output_type": "stream",
          "text": [
            "WARNING:praw:It appears that you are using PRAW in an asynchronous environment.\n",
            "It is strongly recommended to use Async PRAW: https://asyncpraw.readthedocs.io.\n",
            "See https://praw.readthedocs.io/en/latest/getting_started/multiple_instances.html#discord-bots-and-asynchronous-environments for more info.\n",
            "\n"
          ]
        },
        {
          "data": {
            "text/plain": [
              "Redditor(name='ayush-singh-13')"
            ]
          },
          "execution_count": 18,
          "metadata": {},
          "output_type": "execute_result"
        }
      ],
      "source": [
        "#Login to reddit\n",
        "reddit.user.me()"
      ]
    },
    {
      "cell_type": "code",
      "execution_count": 19,
      "metadata": {
        "colab": {
          "base_uri": "https://localhost:8080/"
        },
        "id": "omqAoyBATTZP",
        "outputId": "cc966115-d29b-4948-c452-a57dcb336ad2"
      },
      "outputs": [
        {
          "name": "stderr",
          "output_type": "stream",
          "text": [
            "WARNING:praw:It appears that you are using PRAW in an asynchronous environment.\n",
            "It is strongly recommended to use Async PRAW: https://asyncpraw.readthedocs.io.\n",
            "See https://praw.readthedocs.io/en/latest/getting_started/multiple_instances.html#discord-bots-and-asynchronous-environments for more info.\n",
            "\n"
          ]
        },
        {
          "name": "stdout",
          "output_type": "stream",
          "text": [
            "Ask Anything Monday - Weekly Thread\n",
            "How complex a game can you build in Python?\n",
            "Why iterate over an array using the index?\n",
            "Why doesn't Python have pointers?\n",
            "I've learned the basics, now what?\n"
          ]
        }
      ],
      "source": [
        "#Get the data from reddit\n",
        "subreddit = reddit.subreddit(\"learnpython\")\n",
        "for submission in subreddit.hot(limit=5):\n",
        " print(submission.title)"
      ]
    },
    {
      "cell_type": "code",
      "execution_count": 21,
      "metadata": {
        "colab": {
          "base_uri": "https://localhost:8080/"
        },
        "id": "ZDjroT8Zi7yk",
        "outputId": "bd8bfcf9-d9c4-4dbe-e221-df849064aca8"
      },
      "outputs": [
        {
          "name": "stderr",
          "output_type": "stream",
          "text": [
            "WARNING:praw:It appears that you are using PRAW in an asynchronous environment.\n",
            "It is strongly recommended to use Async PRAW: https://asyncpraw.readthedocs.io.\n",
            "See https://praw.readthedocs.io/en/latest/getting_started/multiple_instances.html#discord-bots-and-asynchronous-environments for more info.\n",
            "\n"
          ]
        },
        {
          "name": "stdout",
          "output_type": "stream",
          "text": [
            "Title : Ask Anything Monday - Weekly Thread\n",
            "Score : 1\n",
            "Title : How complex a game can you build in Python?\n",
            "Score : 14\n",
            "Title : Why iterate over an array using the index?\n",
            "Score : 35\n",
            "Title : Why doesn't Python have pointers?\n",
            "Score : 100\n",
            "Title : I've learned the basics, now what?\n",
            "Score : 28\n"
          ]
        }
      ],
      "source": [
        "subreddit = reddit.subreddit(\"learnpython\")\n",
        "for submission in subreddit.hot(limit=5):\n",
        " print(f'Title : {submission.title}')\n",
        " print(f'Score : {submission.score}')"
      ]
    },
    {
      "cell_type": "code",
      "execution_count": 20,
      "metadata": {
        "colab": {
          "base_uri": "https://localhost:8080/"
        },
        "id": "BcMlTESdTTa3",
        "outputId": "07472e20-01e7-48bf-d1d5-a4d8403cf3f7"
      },
      "outputs": [
        {
          "name": "stderr",
          "output_type": "stream",
          "text": [
            "WARNING:praw:It appears that you are using PRAW in an asynchronous environment.\n",
            "It is strongly recommended to use Async PRAW: https://asyncpraw.readthedocs.io.\n",
            "See https://praw.readthedocs.io/en/latest/getting_started/multiple_instances.html#discord-bots-and-asynchronous-environments for more info.\n",
            "\n"
          ]
        },
        {
          "data": {
            "text/plain": [
              "Submission(id='12vgumf')"
            ]
          },
          "execution_count": 20,
          "metadata": {},
          "output_type": "execute_result"
        }
      ],
      "source": [
        "#Submitting the post on reddit\n",
        "reddit.subreddit(\"test\").submit(\n",
        "    title = \"My First Reddit Bot\",\n",
        "    selftext = \"Hi ,I am the first reddit bot created with Python and praw.\"\n",
        ")"
      ]
    },
    {
      "cell_type": "code",
      "execution_count": null,
      "metadata": {
        "id": "i217_LtGTTcA"
      },
      "outputs": [],
      "source": []
    },
    {
      "cell_type": "code",
      "execution_count": null,
      "metadata": {
        "id": "agN4iml3TTfg"
      },
      "outputs": [],
      "source": []
    }
  ],
  "metadata": {
    "colab": {
      "provenance": []
    },
    "kernelspec": {
      "display_name": "Python 3",
      "name": "python3"
    },
    "language_info": {
      "name": "python"
    }
  },
  "nbformat": 4,
  "nbformat_minor": 0
}
